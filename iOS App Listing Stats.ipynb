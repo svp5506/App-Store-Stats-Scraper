{
 "cells": [
  {
   "cell_type": "code",
   "execution_count": 3,
   "metadata": {},
   "outputs": [
    {
     "name": "stdout",
     "output_type": "stream",
     "text": [
      "                          App Name  App Rating  Review Count\n",
      "0         Go Kinetic by Windstream         4.8         58553\n",
      "1                     My altafiber         4.8          4066\n",
      "2   Spectrum Access: Enabled Media         4.6           120\n",
      "3                          Cox App         4.6        376494\n",
      "4                       My Verizon         4.6       4698161\n",
      "5                    myCricket App         4.5         41700\n",
      "6                   MyDISH Account         4.6        313588\n",
      "7                         T-Mobile         4.8       2414212\n",
      "8                   Xfinity Mobile         4.8         42654\n",
      "9     Spectrum News: Local Stories         4.7         22371\n",
      "10                     My Spectrum         4.8       1909166\n",
      "11                My Sprint Mobile         4.5       1047109\n",
      "12                 Verizon My Fios         4.5        252884\n",
      "13                  My CenturyLink         4.4        112600\n",
      "14                  Visible mobile         4.4         66434\n",
      "15                       SpectrumU         4.3           160\n",
      "16                      myAT&amp;T         4.0       3992454\n",
      "17  Spectrum SportsNet: Live Games         4.6          3871\n",
      "18                 MediacomConnect         3.3          6372\n",
      "19                         MyMetro         2.8          2906\n",
      "20                      MyFrontier         4.4         43314\n"
     ]
    }
   ],
   "source": [
    "from bs4 import BeautifulSoup\n",
    "import requests\n",
    "import json\n",
    "import pandas as pd\n",
    "\n",
    "url = [\"https://apps.apple.com/us/app/go-kinetic-by-windstream/id1342262959\", #GoKinectByWindstream\n",
    "    \"https://apps.apple.com/us/app/my-altafiber/id1245014739\", #MyAltafiber\n",
    "    \"https://apps.apple.com/us/app/spectrum-access-enabled-media/id1492182876\", #SpectrumAccess\n",
    "    \"https://apps.apple.com/us/app/cox-app/id415894489\", #CoxApp\n",
    "    \"https://apps.apple.com/us/app/my-verizon/id416023011\", #MyVerizon\n",
    "    \"https://apps.apple.com/us/app/mycricket-app/id626392754\", #MyCricket\n",
    "    \"https://apps.apple.com/us/app/mydish-account/id1123102087\", #MyDishAccount\n",
    "    \"https://apps.apple.com/us/app/t-mobile/id561625752\", #T-Mobile\n",
    "    \"https://apps.apple.com/us/app/xfinity-mobile/id1194745615\", #XfinityMobile\n",
    "    \"https://apps.apple.com/us/app/spectrum-news-local-stories/id740948885\", #SpectrumNews\n",
    "    \"https://apps.apple.com/us/app/my-spectrum/id942608209\", #MySpectrumApp\n",
    "    \"https://apps.apple.com/us/app/my-sprint-mobile/id491126018\", #MySprintMobile\n",
    "    \"https://apps.apple.com/us/app/verizon-my-fios/id476394945\", #VerizonMyFios\n",
    "    \"https://apps.apple.com/us/app/my-centurylink/id1015059570\", #MyCenturyLink\n",
    "    \"https://apps.apple.com/us/app/visible-mobile/id1367950045\", #VisibleMobile\n",
    "    \"https://apps.apple.com/us/app/spectrumu/id827887111\", #SpectrumU\n",
    "    \"https://apps.apple.com/us/app/myat-t/id309172177\", #MyATT\n",
    "    \"https://apps.apple.com/us/app/spectrum-sportsnet-live-games/id563316826\", #SpectrumSportsNet\n",
    "    \"https://apps.apple.com/us/app/mediacomconnect/id527680234\", #MediacomConnect\n",
    "    \"https://apps.apple.com/us/app/mymetro/id1188830219\", #MyMetro\n",
    "    \"https://apps.apple.com/us/app/myfrontier/id978439794\", #MyFrontier\n",
    "]\n",
    "data2 = []\n",
    "for link in range(len(url)):\n",
    "    result = requests.get(url[link])\n",
    "    soup = BeautifulSoup(result.content, \"html.parser\")\n",
    "    script = soup.find(type=\"application/ld+json\").text.strip()\n",
    "    data = json.loads(script)\n",
    "    dataApp = {\n",
    "    \"App Name\": data['name'], \n",
    "    \"App Rating\": data['aggregateRating']['ratingValue'], \n",
    "    \"Review Count\": data['aggregateRating']['reviewCount']\n",
    "    }\n",
    "    data2.append(dataApp)\n",
    "data2 = pd.DataFrame(data2)\n",
    "print(data2)\n",
    "data2.to_excel('reviews2.xlsx')"
   ]
  },
  {
   "cell_type": "code",
   "execution_count": null,
   "metadata": {},
   "outputs": [],
   "source": []
  }
 ],
 "metadata": {
  "kernelspec": {
   "display_name": "Python 3",
   "language": "python",
   "name": "python3"
  },
  "language_info": {
   "codemirror_mode": {
    "name": "ipython",
    "version": 3
   },
   "file_extension": ".py",
   "mimetype": "text/x-python",
   "name": "python",
   "nbconvert_exporter": "python",
   "pygments_lexer": "ipython3",
   "version": "3.10.9"
  },
  "orig_nbformat": 4,
  "vscode": {
   "interpreter": {
    "hash": "31f2aee4e71d21fbe5cf8b01ff0e069b9275f58929596ceb00d14d90e3e16cd6"
   }
  }
 },
 "nbformat": 4,
 "nbformat_minor": 2
}
