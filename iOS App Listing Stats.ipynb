{
 "cells": [
  {
   "cell_type": "code",
   "execution_count": 17,
   "metadata": {},
   "outputs": [],
   "source": [
    "from bs4 import BeautifulSoup\n",
    "import requests\n",
    "import json\n",
    "import pandas as pd"
   ]
  },
  {
   "cell_type": "code",
   "execution_count": 2,
   "metadata": {},
   "outputs": [
    {
     "name": "stdout",
     "output_type": "stream",
     "text": [
      "                          App Name  App Rating  Review Count\n",
      "0         Go Kinetic by Windstream         4.8         58675\n",
      "1                     My altafiber         4.8          4077\n",
      "2   Spectrum Access: Enabled Media         4.6           120\n",
      "3                          Cox App         4.6        377323\n",
      "4                       My Verizon         4.6       4700977\n",
      "5                    myCricket App         4.5         41715\n",
      "6                   MyDISH Account         4.6        314073\n",
      "7                         T-Mobile         4.8       2414167\n",
      "8                   Xfinity Mobile         4.8         42656\n",
      "9     Spectrum News: Local Stories         4.7         22498\n",
      "10                     My Spectrum         4.8       1913188\n",
      "11                My Sprint Mobile         4.5       1047203\n",
      "12                 Verizon My Fios         4.5        253099\n",
      "13                  My CenturyLink         4.4        112693\n",
      "14                  Visible mobile         4.4         66771\n",
      "15                       SpectrumU         4.3           161\n",
      "16                     Spectrum TV         4.7        393136\n",
      "17                      myAT&amp;T         4.0       3992411\n",
      "18  Spectrum SportsNet: Live Games         4.6          3895\n",
      "19                 MediacomConnect         3.3          6380\n",
      "20                         MyMetro         2.8          2909\n",
      "21                      MyFrontier         4.4         43402\n",
      "22                         Xfinity         4.4        832045\n",
      "23                    Google Fiber         3.5           201\n",
      "24                       My Viasat         4.2          1499\n",
      "25                       Armstrong         3.9            13\n",
      "26                      RCN Mobile         1.7            25\n",
      "27                HughesNet Mobile         1.9           294\n",
      "28                   HT My Account         1.4            17\n",
      "29                Midco My Account         1.4            19\n",
      "30                 Optimum Support         1.4          1335\n",
      "31        UScellular™ – My Account         4.4         25203\n",
      "32                        My SECTV         1.9            41\n",
      "33                      Optimum TV         4.6         12430\n",
      "34                   Breezeline TV         1.3            32\n",
      "35                   My Blue Ridge         4.6          3081\n",
      "36                       myBuckeye         2.5            22\n"
     ]
    }
   ],
   "source": [
    "url = [\"https://apps.apple.com/us/app/go-kinetic-by-windstream/id1342262959\", #GoKinectByWindstream\n",
    "    \"https://apps.apple.com/us/app/my-altafiber/id1245014739\", #MyAltafiber\n",
    "    \"https://apps.apple.com/us/app/spectrum-access-enabled-media/id1492182876\", #SpectrumAccess\n",
    "    \"https://apps.apple.com/us/app/cox-app/id415894489\", #CoxApp\n",
    "    \"https://apps.apple.com/us/app/my-verizon/id416023011\", #MyVerizon\n",
    "    \"https://apps.apple.com/us/app/mycricket-app/id626392754\", #MyCricket\n",
    "    \"https://apps.apple.com/us/app/mydish-account/id1123102087\", #MyDishAccount\n",
    "    \"https://apps.apple.com/us/app/t-mobile/id561625752\", #T-Mobile\n",
    "    \"https://apps.apple.com/us/app/xfinity-mobile/id1194745615\", #XfinityMobile\n",
    "    \"https://apps.apple.com/us/app/spectrum-news-local-stories/id740948885\", #SpectrumNews\n",
    "    \"https://apps.apple.com/us/app/my-spectrum/id942608209\", #MySpectrumApp\n",
    "    \"https://apps.apple.com/us/app/my-sprint-mobile/id491126018\", #MySprintMobile\n",
    "    \"https://apps.apple.com/us/app/verizon-my-fios/id476394945\", #VerizonMyFios\n",
    "    \"https://apps.apple.com/us/app/my-centurylink/id1015059570\", #MyCenturyLink\n",
    "    \"https://apps.apple.com/us/app/visible-mobile/id1367950045\", #VisibleMobile\n",
    "    \"https://apps.apple.com/us/app/spectrumu/id827887111\", #SpectrumU\n",
    "    \"https://apps.apple.com/us/app/spectrum-tv/id420455839\", #SpectrumTV\n",
    "    \"https://apps.apple.com/us/app/myat-t/id309172177\", #MyATT\n",
    "    \"https://apps.apple.com/us/app/spectrum-sportsnet-live-games/id563316826\", #SpectrumSportsNet\n",
    "    \"https://apps.apple.com/us/app/mediacomconnect/id527680234\", #MediacomConnect\n",
    "    \"https://apps.apple.com/us/app/mymetro/id1188830219\", #MyMetro\n",
    "    \"https://apps.apple.com/us/app/myfrontier/id978439794\", #MyFrontier\n",
    "    \"https://apps.apple.com/us/app/xfinity/id1178765645\", #XfinityMyAccount\n",
    "    \"https://apps.apple.com/us/app/google-fiber/id1063844759\", #GoogleFiber\n",
    "    \"https://apps.apple.com/us/app/my-viasat/id1341120640\", #MyViasat\n",
    "    \"https://apps.apple.com/us/app/armstrong/id636522134\", #ArmStrong\n",
    "    \"https://apps.apple.com/us/app/rcn-mobile/id610411414\", #RCN_Mobile\n",
    "    \"https://apps.apple.com/us/app/hughesnet-mobile/id1097579916\", #HughesNet_Mobile\n",
    "    \"https://apps.apple.com/us/app/ht-my-account/id1262963153\", #HT_MyAccount\n",
    "    \"https://apps.apple.com/us/app/midco-my-account/id1090421908\", #MidcoMyAccount\n",
    "    \"https://apps.apple.com/us/app/optimum-support/id1234273194\", #OptimumSupport\n",
    "    \"https://apps.apple.com/us/app/uscellular-my-account/id1228669675\", #US_Cellular_My_Account\n",
    "    \"https://apps.apple.com/us/app/my-sectv/id898376931\", #MySecTV\n",
    "    \"https://apps.apple.com/us/app/optimum-tv/id1296704509\", #OptimumTV\n",
    "    \"https://apps.apple.com/us/app/breezeline-tv/id787428890\", #BreezelineTV\n",
    "    \"https://apps.apple.com/us/app/my-blue-ridge/id1425929491\", #MyBlueRidge\n",
    "    \"https://apps.apple.com/us/app/mybuckeye/id1571340716\" #MyBuckeye\n",
    "]\n",
    "data2 = []\n",
    "for link in range(len(url)):\n",
    "    result = requests.get(url[link])\n",
    "    soup = BeautifulSoup(result.content, \"html.parser\")\n",
    "    script = soup.find(type=\"application/ld+json\").text.strip()\n",
    "    data = json.loads(script)\n",
    "    dataApp = {\n",
    "    \"App Name\": data['name'], \n",
    "    \"App Rating\": data['aggregateRating']['ratingValue'], \n",
    "    \"Review Count\": data['aggregateRating']['reviewCount']\n",
    "    }\n",
    "    data2.append(dataApp)\n",
    "data2 = pd.DataFrame(data2)\n",
    "print(data2)\n",
    "data2.to_excel('iOSratings.xlsx')"
   ]
  },
  {
   "cell_type": "code",
   "execution_count": 34,
   "metadata": {},
   "outputs": [
    {
     "name": "stdout",
     "output_type": "stream",
     "text": [
      "      App Name Star Rating  Total Reviews  5 Star Reviews  4 Star Reviews  \\\n",
      "0  My Spectrum         4.6         600172          452509          103713   \n",
      "1   My Verizon         4.6         988611          768986          154088   \n",
      "\n",
      "   3 Star Reviews  2 Star Reviews  1 Star Reviews  \n",
      "0           29020            4251           10679  \n",
      "1           29028            6778           29731  \n"
     ]
    }
   ],
   "source": [
    "urlAndroid = [\"https://play.google.com/store/apps/details?id=com.brighthouse.mybhn&hl=en_US&gl=US&pli=1\", #MySpectrumApp\n",
    "              \"https://play.google.com/store/apps/details?id=com.vzw.hss.myverizon&hl=en_US&gl=US\" #MyVerizon\n",
    "]\n",
    "dataAndroid = []\n",
    "for link in range(len(urlAndroid)):\n",
    "    resultAndroid = requests.get(urlAndroid[link])\n",
    "    soupAndroid = BeautifulSoup(resultAndroid.content, \"html.parser\")\n",
    "    starRatingRaw = soupAndroid.find(\"div\",{\"aria-label\":\"Rated 4.6 stars out of five stars\"})\n",
    "    starRating = starRatingRaw.text.replace(\"star\",\"\")\n",
    "    \n",
    "    appName = soupAndroid.find(\"h1\",{\"class\":\"Fd93Bb ynrBgc xwcR9d\"})\n",
    "    appName = appName.text\n",
    "    \n",
    "    temp_list = []\n",
    "    divReviews= soupAndroid.find_all(\"div\",{\"class\":\"RutFAf wcB8se\"})\n",
    "    for div in divReviews:\n",
    "        countReviewsRaw = div['title']\n",
    "        countReviews = countReviewsRaw.replace(\",\",\"\")\n",
    "        temp_list.append(countReviews)\n",
    "    \n",
    "    temp_list.append(starRating)\n",
    "    temp_list.append(appName)\n",
    "    dataAndroid.append(temp_list)\n",
    "    \n",
    "dataAndroid = pd.DataFrame(dataAndroid, columns=['5 Star Reviews', '4 Star Reviews', '3 Star Reviews', '2 Star Reviews', '1 Star Reviews', 'Star Rating', 'App Name'])\n",
    "\n",
    "dataAndroid['5 Star Reviews'] = dataAndroid['5 Star Reviews'].astype(int)\n",
    "dataAndroid['4 Star Reviews'] = dataAndroid['4 Star Reviews'].astype(int)\n",
    "dataAndroid['3 Star Reviews'] = dataAndroid['3 Star Reviews'].astype(int)\n",
    "dataAndroid['2 Star Reviews'] = dataAndroid['2 Star Reviews'].astype(int)\n",
    "dataAndroid['1 Star Reviews'] = dataAndroid['1 Star Reviews'].astype(int)\n",
    "dataAndroid['Total Reviews'] = dataAndroid.loc[:, '5 Star Reviews':'1 Star Reviews'].sum(1)\n",
    "\n",
    "dataAndroid = dataAndroid[['App Name', 'Star Rating', 'Total Reviews', '5 Star Reviews','4 Star Reviews', '3 Star Reviews', '2 Star Reviews', '1 Star Reviews']]\n",
    "print(dataAndroid)\n"
   ]
  },
  {
   "cell_type": "code",
   "execution_count": null,
   "metadata": {},
   "outputs": [],
   "source": []
  }
 ],
 "metadata": {
  "kernelspec": {
   "display_name": "Python 3",
   "language": "python",
   "name": "python3"
  },
  "language_info": {
   "codemirror_mode": {
    "name": "ipython",
    "version": 3
   },
   "file_extension": ".py",
   "mimetype": "text/x-python",
   "name": "python",
   "nbconvert_exporter": "python",
   "pygments_lexer": "ipython3",
   "version": "3.11.2"
  },
  "orig_nbformat": 4,
  "vscode": {
   "interpreter": {
    "hash": "31f2aee4e71d21fbe5cf8b01ff0e069b9275f58929596ceb00d14d90e3e16cd6"
   }
  }
 },
 "nbformat": 4,
 "nbformat_minor": 2
}
