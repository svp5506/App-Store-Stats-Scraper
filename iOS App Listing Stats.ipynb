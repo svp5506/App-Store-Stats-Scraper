{
 "cells": [
  {
   "cell_type": "code",
   "execution_count": 1,
   "metadata": {},
   "outputs": [
    {
     "name": "stdout",
     "output_type": "stream",
     "text": [
      "      App Name  App Rating  Review Count\n",
      "0   My Verizon         4.6       4697705\n",
      "1  My Spectrum         4.8       1908394\n",
      "2     T-Mobile         4.8       2414230\n",
      "3   myAT&amp;T         4.0       3992469\n"
     ]
    }
   ],
   "source": [
    "from bs4 import BeautifulSoup\n",
    "import requests\n",
    "import json\n",
    "import pandas as pd\n",
    "\n",
    "url = [\"https://apps.apple.com/us/app/my-verizon/id416023011\",\"https://apps.apple.com/us/app/my-spectrum/id942608209\",\"https://apps.apple.com/us/app/t-mobile/id561625752\",\"https://apps.apple.com/us/app/myat-t/id309172177\"]\n",
    "data2 = []\n",
    "for link in range(len(url)):\n",
    "    result = requests.get(url[link])\n",
    "    soup = BeautifulSoup(result.content, \"html.parser\")\n",
    "    script = soup.find(type=\"application/ld+json\").text.strip()\n",
    "    data = json.loads(script)\n",
    "    dataApp = {\n",
    "    \"App Name\": data['name'], \n",
    "    \"App Rating\": data['aggregateRating']['ratingValue'], \n",
    "    \"Review Count\": data['aggregateRating']['reviewCount']\n",
    "    }\n",
    "    data2.append(dataApp)\n",
    "data2 = pd.DataFrame(data2)\n",
    "print(data2)\n",
    "data2.to_csv('reviews2.csv')"
   ]
  },
  {
   "cell_type": "code",
   "execution_count": null,
   "metadata": {},
   "outputs": [],
   "source": []
  }
 ],
 "metadata": {
  "kernelspec": {
   "display_name": "Python 3",
   "language": "python",
   "name": "python3"
  },
  "language_info": {
   "codemirror_mode": {
    "name": "ipython",
    "version": 3
   },
   "file_extension": ".py",
   "mimetype": "text/x-python",
   "name": "python",
   "nbconvert_exporter": "python",
   "pygments_lexer": "ipython3",
   "version": "3.10.9"
  },
  "orig_nbformat": 4,
  "vscode": {
   "interpreter": {
    "hash": "31f2aee4e71d21fbe5cf8b01ff0e069b9275f58929596ceb00d14d90e3e16cd6"
   }
  }
 },
 "nbformat": 4,
 "nbformat_minor": 2
}
