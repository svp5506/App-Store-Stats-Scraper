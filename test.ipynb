{
 "cells": [
  {
   "cell_type": "code",
   "execution_count": 3,
   "metadata": {},
   "outputs": [],
   "source": [
    "from iOSRatings import dataiOS\n",
    "import pandas as pd"
   ]
  },
  {
   "cell_type": "code",
   "execution_count": 4,
   "metadata": {},
   "outputs": [
    {
     "name": "stdout",
     "output_type": "stream",
     "text": [
      "0           Go Kinetic by Windstream\n",
      "1                       My altafiber\n",
      "2     Spectrum Access: Enabled Media\n",
      "3                            Cox App\n",
      "4                         My Verizon\n",
      "5                      myCricket App\n",
      "6                     MyDISH Account\n",
      "7                           T-Mobile\n",
      "8                     Xfinity Mobile\n",
      "9       Spectrum News: Local Stories\n",
      "10                       My Spectrum\n",
      "11                  My Sprint Mobile\n",
      "12                   Verizon My Fios\n",
      "13                    My CenturyLink\n",
      "14                    Visible mobile\n",
      "15                         SpectrumU\n",
      "16                       Spectrum TV\n",
      "17                        myAT&amp;T\n",
      "18    Spectrum SportsNet: Live Games\n",
      "19                   MediacomConnect\n",
      "20                           MyMetro\n",
      "21                        MyFrontier\n",
      "22                           Xfinity\n",
      "23                      Google Fiber\n",
      "24                         My Viasat\n",
      "25                         Armstrong\n",
      "26                         App Store\n",
      "27                  HughesNet Mobile\n",
      "28                     HT My Account\n",
      "29                  Midco My Account\n",
      "30                   Optimum Support\n",
      "31          UScellular™ – My Account\n",
      "32           SE Next powered by Tivo\n",
      "33                        Optimum TV\n",
      "34                     Breezeline TV\n",
      "35                     My Blue Ridge\n",
      "36                         myBuckeye\n",
      "Name: App Name, dtype: object\n"
     ]
    }
   ],
   "source": [
    "iOSLabels = dataiOS[\"App Name\"]\n",
    "print(iOSLabels)"
   ]
  },
  {
   "cell_type": "code",
   "execution_count": null,
   "metadata": {},
   "outputs": [],
   "source": [
    "from androidRatings import dataAndroid\n",
    "AndroidLabels = dataAndroid[\"App Name\"]\n",
    "print(AndroidLabels)"
   ]
  }
 ],
 "metadata": {
  "kernelspec": {
   "display_name": "Python 3",
   "language": "python",
   "name": "python3"
  },
  "language_info": {
   "codemirror_mode": {
    "name": "ipython",
    "version": 3
   },
   "file_extension": ".py",
   "mimetype": "text/x-python",
   "name": "python",
   "nbconvert_exporter": "python",
   "pygments_lexer": "ipython3",
   "version": "3.11.2"
  },
  "orig_nbformat": 4
 },
 "nbformat": 4,
 "nbformat_minor": 2
}
